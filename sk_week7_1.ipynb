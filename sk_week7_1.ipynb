{
 "cells": [
  {
   "cell_type": "code",
   "execution_count": 1,
   "id": "aa178e4d",
   "metadata": {},
   "outputs": [
    {
     "name": "stdout",
     "output_type": "stream",
     "text": [
      "line=   1.000   2.300   2.331   0.100\n",
      "\n",
      "line=   2.000   2.600   2.582   0.100\n",
      "\n",
      "line=   3.000   2.900   3.037   0.100\n",
      "\n",
      "line=   4.000   3.200   3.373   0.100\n",
      "\n",
      "line=   5.000   3.500   3.621   0.100\n",
      "\n",
      "line=   6.000   3.800   3.654   0.100\n",
      "\n",
      "line=   7.000   4.100   3.962   0.100\n",
      "\n",
      "line=   8.000   4.400   4.364   0.100\n",
      "\n",
      "line=   9.000   4.700   4.622   0.100\n",
      "\n",
      "line=  10.000   5.000   5.013   0.100\n",
      "\n",
      "line= \n",
      "\n",
      "state= [[ 1.     2.3    2.331  0.1  ]\n",
      " [ 2.     2.6    2.582  0.1  ]\n",
      " [ 3.     2.9    3.037  0.1  ]\n",
      " [ 4.     3.2    3.373  0.1  ]\n",
      " [ 5.     3.5    3.621  0.1  ]\n",
      " [ 6.     3.8    3.654  0.1  ]\n",
      " [ 7.     4.1    3.962  0.1  ]\n",
      " [ 8.     4.4    4.364  0.1  ]\n",
      " [ 9.     4.7    4.622  0.1  ]\n",
      " [10.     5.     5.013  0.1  ]]\n"
     ]
    },
    {
     "data": {
      "image/png": "[encoded data removed]",
      "text/plain": [
       "<Figure size 432x288 with 1 Axes>"
      ]
     },
     "metadata": {
      "needs_background": "light"
     },
     "output_type": "display_data"
    }
   ],
   "source": [
    "import numpy as np\n",
    "import matplotlib.pyplot as plt\n",
    "\n",
    "# create 2D array (10 rows and 4 columns)\n",
    "state=np.zeros((10,4),dtype=float)\n",
    "  \n",
    "#  read x, y values lini-by-line from file\n",
    "with open('data_points.txt') as f:\n",
    "   n=0\n",
    "   for line in f:          \n",
    "       print(\"line=\",line)\n",
    "       s=line.split()\n",
    "       if len(s) >1:      # skip empty line\n",
    "          # save all values for plotting\n",
    "          state[n,0]=float(s[0])  #  x\n",
    "          state[n,1]=float(s[1])  #  y-true\n",
    "          state[n,2]=float(s[2])  #  y-measured\n",
    "          state[n,3]=float(s[3])  #  y-error\n",
    "          n=n+1\n",
    "print(\"state=\",state)\n",
    "\n",
    "x=state[0:9,0]       # copy data to 1D array for plotting.\n",
    "ymeas=state[0:9,2]\n",
    "plt.plot(x,ymeas,\"ob\")\n",
    "\n",
    "y=state[0:9,1]\n",
    "plt.plot(x,y,\"r\")\n",
    "plt.savefig(\"data_points.png\")\n",
    "plt.show()"
   ]
  },
  {
   "cell_type": "code",
   "execution_count": null,
   "id": "4327916b",
   "metadata": {},
   "outputs": [],
   "source": []
  }
 ],
 "metadata": {
  "kernelspec": {
   "display_name": "Python 3",
   "language": "python",
   "name": "python3"
  },
  "language_info": {
   "codemirror_mode": {
    "name": "ipython",
    "version": 3
   },
   "file_extension": ".py",
   "mimetype": "text/x-python",
   "name": "python",
   "nbconvert_exporter": "python",
   "pygments_lexer": "ipython3",
   "version": "3.8.8"
  }
 },
 "nbformat": 4,
 "nbformat_minor": 5
}
