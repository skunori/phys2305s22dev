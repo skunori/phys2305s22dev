{
 "cells": [
  {
   "cell_type": "code",
   "execution_count": 4,
   "id": "8c1ac9d4",
   "metadata": {},
   "outputs": [
    {
     "name": "stdout",
     "output_type": "stream",
     "text": [
      "Graph type 0\n",
      " 0 is Trajectory \n",
      " 1 is Velocity \n",
      " 2 is Momentum\n",
      "[  0.           0.         300.         519.61524227] \n",
      "\n",
      "\n"
     ]
    },
    {
     "data": {
      "image/png": "[encoded data removed]",
      "text/plain": [
       "<Figure size 432x288 with 1 Axes>"
      ]
     },
     "metadata": {
      "needs_background": "light"
     },
     "output_type": "display_data"
    }
   ],
   "source": [
    "import numpy as np\n",
    "import matplotlib.pyplot as plt\n",
    "import scipy.integrate as integrate\n",
    "import sys\n",
    "\n",
    "#  set 0 or 1 or 2 to case \n",
    "\n",
    "case=0\n",
    "\n",
    "print('Graph type',case)\n",
    "print(' 0 is Trajectory \\n 1 is Velocity \\n 2 is Momentum')\n",
    "\n",
    "#Function\n",
    "def yprime(state,t,k):  \n",
    "   g=9.8\n",
    "   n=len(state)\n",
    "   yp=np.zeros(n)\n",
    "   yp[0]=state[2]       # vx, i.e. dx/dt\n",
    "   yp[1]=state[3]       # vy, i.e. dy/dt\n",
    "   yp[2]=-k*state[2]    # ax, i.e. dvx/dt\n",
    "   yp[3]=-g-k*state[3]  # ay, i.e. dvy/dt \n",
    "   return yp\n",
    "\n",
    "def Euler(y0,t,kconstant):\n",
    "   n=len(t)\n",
    "   m=len(y0)\n",
    "   ytemp=np.zeros((n,m),dtype=float)   # n row, m column\n",
    "   ytemp[0,:]=y0   # copy the initial value to the first row.\n",
    "\n",
    "   i=0\n",
    "   while i < (n-2):\n",
    "      tx=t[i]\n",
    "      dt=t[i+1]-t[i]\n",
    "      yp=yprime(ytemp[i,:],tx,kconstant)\n",
    "      ytemp[i+1,0]=ytemp[i,0]+yp[0]*dt\n",
    "      ytemp[i+1,1]=ytemp[i,1]+yp[1]*dt\n",
    "      ytemp[i+1,2]=ytemp[i,2]+yp[2]*dt\n",
    "      ytemp[i+1,3]=ytemp[i,3]+yp[3]*dt\n",
    "      i=i+1\n",
    "      if ytemp[i,1] < -10000.0:\n",
    "         break\n",
    "   yval=ytemp[0:i,:]\n",
    "   return yval\n",
    "\n",
    "\n",
    "#program strats\n",
    "dt = 0.01 \n",
    "tmax = 10000.0\n",
    "t  = np.arange(0.0,tmax,dt)\n",
    "c = np.zeros(1000)\n",
    "\n",
    "v0=600.0\n",
    "theta=60.0*np.pi/180.0\n",
    "\n",
    "stateInit=np.zeros(4)\n",
    "stateInit[0]=0.0    #  x\n",
    "stateInit[1]=0.0    #  y\n",
    "stateInit[2]=v0*np.cos(theta)\n",
    "stateInit[3]=v0*np.sin(theta)\n",
    "print(stateInit, '\\n\\n')\n",
    "\n",
    "kvalArray=np.array([0.08,0.04,0.02,0.01,0.005,0.0])\n",
    "\n",
    "for k in kvalArray:\n",
    "   kconstant=k   #(air registance)\n",
    "   stateA=Euler(stateInit,t,kconstant)\n",
    "   if k==kvalArray[0]:\n",
    "     h='r' ##Use color map for graph please!!! or keep doing this, you do you\n",
    "   if k==kvalArray[1]:\n",
    "     h='b'\n",
    "   if k==kvalArray[2]:\n",
    "     h='g'\n",
    "   if k==kvalArray[3]:\n",
    "     h='m'\n",
    "   if k==kvalArray[4]:\n",
    "     h='y'\n",
    "   if k==kvalArray[5]:\n",
    "     h='k'\n",
    "   if case==0:\n",
    "      x=stateA[:,0]\n",
    "      y=stateA[:,1]\n",
    "      plt.plot(x,y,h,ls='-',markevery=1000, label= 'k = ' +str(k))\n",
    "      plt.legend(loc='best')\n",
    "   if case==1:\n",
    "      vy=stateA[:,3]\n",
    "      n=len(vy)\n",
    "      t2=t[:n]\n",
    "      plt.plot(t2,vy,h,ls='-',markevery=1000,label= 'k = ' +str(k))\n",
    "      plt.legend(loc='best')\n",
    "   if case==2:\n",
    "      xx=stateA[0::1000,0]\n",
    "      yy=stateA[0::1000,1]\n",
    "      vx=stateA[0::1000,2]\n",
    "      vy=stateA[0::1000,3]\n",
    "      plt.quiver(xx,yy,vx,vy,label= 'k = ' + str(k),color=h)\n",
    "      plt.legend(loc='best')\n",
    "fname=\"fig_trajectory_case\"+str(case)\n",
    "plt.savefig(fname)\n",
    "plt.show()\n"
   ]
  },
  {
   "cell_type": "code",
   "execution_count": null,
   "id": "9f8d4143",
   "metadata": {},
   "outputs": [],
   "source": []
  },
  {
   "cell_type": "code",
   "execution_count": null,
   "id": "8b15a3d4",
   "metadata": {},
   "outputs": [],
   "source": []
  }
 ],
 "metadata": {
  "kernelspec": {
   "display_name": "Python 3",
   "language": "python",
   "name": "python3"
  },
  "language_info": {
   "codemirror_mode": {
    "name": "ipython",
    "version": 3
   },
   "file_extension": ".py",
   "mimetype": "text/x-python",
   "name": "python",
   "nbconvert_exporter": "python",
   "pygments_lexer": "ipython3",
   "version": "3.8.8"
  }
 },
 "nbformat": 4,
 "nbformat_minor": 5
}
