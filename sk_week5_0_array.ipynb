{
 "cells": [
  {
   "cell_type": "code",
   "execution_count": 1,
   "id": "45da2079",
   "metadata": {},
   "outputs": [],
   "source": [
    "import numpy as np"
   ]
  },
  {
   "cell_type": "code",
   "execution_count": 2,
   "id": "23534b7a",
   "metadata": {},
   "outputs": [
    {
     "name": "stdout",
     "output_type": "stream",
     "text": [
      "[1. 2. 3.]\n"
     ]
    }
   ],
   "source": [
    "# 1D array\n",
    "x=np.array([1.0, 2.0, 3.0])\n",
    "print(x)"
   ]
  },
  {
   "cell_type": "code",
   "execution_count": 3,
   "id": "96363a39",
   "metadata": {},
   "outputs": [
    {
     "name": "stdout",
     "output_type": "stream",
     "text": [
      "1.0\n",
      "3.0\n"
     ]
    }
   ],
   "source": [
    "print(x[0])   # 0 is index\n",
    "print(x[2])"
   ]
  },
  {
   "cell_type": "code",
   "execution_count": 5,
   "id": "796e4a47",
   "metadata": {},
   "outputs": [
    {
     "name": "stdout",
     "output_type": "stream",
     "text": [
      "[0.  0.5 1.  1.5 2.  2.5 3.  3.5 4.  4.5]\n"
     ]
    }
   ],
   "source": [
    "xmin=0.0\n",
    "xmax=5.0\n",
    "dx=0.5\n",
    "x2=np.arange(xmin,xmax,dx)\n",
    "print(x2)"
   ]
  },
  {
   "cell_type": "code",
   "execution_count": 7,
   "id": "39f164fa",
   "metadata": {},
   "outputs": [
    {
     "name": "stdout",
     "output_type": "stream",
     "text": [
      "10\n"
     ]
    }
   ],
   "source": [
    "n=len(x2)\n",
    "print(n)"
   ]
  },
  {
   "cell_type": "code",
   "execution_count": 8,
   "id": "f1888602",
   "metadata": {},
   "outputs": [
    {
     "name": "stdout",
     "output_type": "stream",
     "text": [
      "[0. 0. 0. 0. 0. 0. 0. 0. 0. 0.]\n"
     ]
    }
   ],
   "source": [
    "x3=np.zeros(10)\n",
    "print(x3)"
   ]
  },
  {
   "cell_type": "code",
   "execution_count": 9,
   "id": "ecb41e8a",
   "metadata": {},
   "outputs": [
    {
     "name": "stdout",
     "output_type": "stream",
     "text": [
      "[0 0 0 0 0 0 0 0 0 0]\n"
     ]
    }
   ],
   "source": [
    "x4=np.zeros(10,dtype=int)\n",
    "print(x4)"
   ]
  },
  {
   "cell_type": "code",
   "execution_count": 10,
   "id": "ffbb5111",
   "metadata": {},
   "outputs": [
    {
     "name": "stdout",
     "output_type": "stream",
     "text": [
      "[0 0 5 0 0 0 0 0 0 0]\n"
     ]
    }
   ],
   "source": [
    "x4[2]=5   #  2 is index\n",
    "print(x4)"
   ]
  },
  {
   "cell_type": "code",
   "execution_count": 11,
   "id": "7bfc468e",
   "metadata": {},
   "outputs": [
    {
     "name": "stdout",
     "output_type": "stream",
     "text": [
      "[[0. 0. 0.]\n",
      " [0. 0. 0.]]\n"
     ]
    }
   ],
   "source": [
    "# 2D array\n",
    "y1=np.zeros((2,3))\n",
    "print(y1)"
   ]
  },
  {
   "cell_type": "code",
   "execution_count": 12,
   "id": "18255896",
   "metadata": {},
   "outputs": [
    {
     "name": "stdout",
     "output_type": "stream",
     "text": [
      "[[0.  0.  0. ]\n",
      " [0.  0.  3.4]]\n"
     ]
    }
   ],
   "source": [
    "y1[1,2]=3.4   # 1, 2 are indecies for 1st dim and 2nd dim\n",
    "print(y1)"
   ]
  },
  {
   "cell_type": "code",
   "execution_count": 13,
   "id": "fb8ff2dc",
   "metadata": {},
   "outputs": [
    {
     "name": "stdout",
     "output_type": "stream",
     "text": [
      "(2, 3)\n"
     ]
    }
   ],
   "source": [
    "print(y1.shape)"
   ]
  },
  {
   "cell_type": "code",
   "execution_count": 15,
   "id": "2946201c",
   "metadata": {},
   "outputs": [
    {
     "name": "stdout",
     "output_type": "stream",
     "text": [
      "ix= 0    iy= 0\n",
      "ix= 0    iy= 1\n",
      "ix= 0    iy= 2\n",
      "ix= 0    iy= 3\n",
      "ix= 0    iy= 4\n",
      "ix= 1    iy= 0\n",
      "ix= 1    iy= 1\n",
      "ix= 1    iy= 2\n",
      "ix= 1    iy= 3\n",
      "ix= 1    iy= 4\n",
      "ix= 2    iy= 0\n",
      "ix= 2    iy= 1\n",
      "ix= 2    iy= 2\n",
      "ix= 2    iy= 3\n",
      "ix= 2    iy= 4\n",
      "[[  0.   1.   2.   3.   4.]\n",
      " [100. 101. 102. 103. 104.]\n",
      " [200. 201. 202. 203. 204.]]\n"
     ]
    }
   ],
   "source": [
    "y2=np.zeros((3,5))\n",
    "for ix in np.arange(0,3,1):\n",
    "    for iy in np.arange(0,5,1):\n",
    "        print(\"ix=\",ix,\"   iy=\",iy)\n",
    "        y2[ix,iy]=ix*100+iy\n",
    "        \n",
    "print(y2)"
   ]
  },
  {
   "cell_type": "code",
   "execution_count": null,
   "id": "f97e0b48",
   "metadata": {},
   "outputs": [],
   "source": [
    "# in above, ix is row number, iy column number"
   ]
  }
 ],
 "metadata": {
  "kernelspec": {
   "display_name": "Python 3",
   "language": "python",
   "name": "python3"
  },
  "language_info": {
   "codemirror_mode": {
    "name": "ipython",
    "version": 3
   },
   "file_extension": ".py",
   "mimetype": "text/x-python",
   "name": "python",
   "nbconvert_exporter": "python",
   "pygments_lexer": "ipython3",
   "version": "3.8.8"
  }
 },
 "nbformat": 4,
 "nbformat_minor": 5
}
