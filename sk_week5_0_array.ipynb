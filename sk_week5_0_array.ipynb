{
 "cells": [
  {
   "cell_type": "code",
   "execution_count": 1,
   "id": "4d157ce6",
   "metadata": {},
   "outputs": [],
   "source": [
    "import numpy as np"
   ]
  },
  {
   "cell_type": "code",
   "execution_count": 2,
   "id": "17dc87bd",
   "metadata": {},
   "outputs": [
    {
     "name": "stdout",
     "output_type": "stream",
     "text": [
      "[1. 2. 3.]\n"
     ]
    }
   ],
   "source": [
    "# 1D array\n",
    "x=np.array([1.0, 2.0, 3.0])\n",
    "print(x)"
   ]
  },
  {
   "cell_type": "code",
   "execution_count": 3,
   "id": "bcd49af2",
   "metadata": {},
   "outputs": [
    {
     "name": "stdout",
     "output_type": "stream",
     "text": [
      "1.0\n",
      "3.0\n"
     ]
    }
   ],
   "source": [
    "print(x[0])   # 0 is index\n",
    "print(x[2])"
   ]
  },
  {
   "cell_type": "code",
   "execution_count": 4,
   "id": "603b0b46",
   "metadata": {},
   "outputs": [
    {
     "name": "stdout",
     "output_type": "stream",
     "text": [
      "[0.  0.5 1.  1.5 2.  2.5 3.  3.5 4.  4.5]\n"
     ]
    }
   ],
   "source": [
    "xmin=0.0\n",
    "xmax=5.0\n",
    "dx=0.5\n",
    "x2=np.arange(xmin,xmax,dx)\n",
    "print(x2)"
   ]
  },
  {
   "cell_type": "code",
   "execution_count": 5,
   "id": "a1ff3659",
   "metadata": {},
   "outputs": [
    {
     "name": "stdout",
     "output_type": "stream",
     "text": [
      "10\n"
     ]
    }
   ],
   "source": [
    "n=len(x2)\n",
    "print(n)"
   ]
  },
  {
   "cell_type": "code",
   "execution_count": 6,
   "id": "70a5e7ad",
   "metadata": {},
   "outputs": [
    {
     "name": "stdout",
     "output_type": "stream",
     "text": [
      "[0. 0. 0. 0. 0. 0. 0. 0. 0. 0.]\n"
     ]
    }
   ],
   "source": [
    "x3=np.zeros(10)\n",
    "print(x3)"
   ]
  },
  {
   "cell_type": "code",
   "execution_count": 7,
   "id": "6c37c2cb",
   "metadata": {},
   "outputs": [
    {
     "name": "stdout",
     "output_type": "stream",
     "text": [
      "[0 0 0 0 0 0 0 0 0 0]\n"
     ]
    }
   ],
   "source": [
    "x4=np.zeros(10,dtype=int)\n",
    "print(x4)"
   ]
  },
  {
   "cell_type": "code",
   "execution_count": 8,
   "id": "50476a13",
   "metadata": {},
   "outputs": [
    {
     "name": "stdout",
     "output_type": "stream",
     "text": [
      "[0 0 5 0 0 0 0 0 0 0]\n"
     ]
    }
   ],
   "source": [
    "x4[2]=5   #  2 is index\n",
    "print(x4)"
   ]
  },
  {
   "cell_type": "code",
   "execution_count": 9,
   "id": "c53e683e",
   "metadata": {},
   "outputs": [
    {
     "name": "stdout",
     "output_type": "stream",
     "text": [
      "[[0. 0. 0.]\n",
      " [0. 0. 0.]]\n"
     ]
    }
   ],
   "source": [
    "# 2D array\n",
    "y1=np.zeros((2,3))\n",
    "print(y1)"
   ]
  },
  {
   "cell_type": "code",
   "execution_count": 10,
   "id": "575dcd84",
   "metadata": {},
   "outputs": [
    {
     "name": "stdout",
     "output_type": "stream",
     "text": [
      "[[0.  0.  0. ]\n",
      " [0.  0.  3.4]]\n"
     ]
    }
   ],
   "source": [
    "y1[1,2]=3.4   # 1, 2 are indecies for 1st dim and 2nd dim\n",
    "print(y1)"
   ]
  },
  {
   "cell_type": "code",
   "execution_count": 11,
   "id": "adbc2224",
   "metadata": {},
   "outputs": [
    {
     "name": "stdout",
     "output_type": "stream",
     "text": [
      "(2, 3)\n"
     ]
    }
   ],
   "source": [
    "print(y1.shape)"
   ]
  },
  {
   "cell_type": "code",
   "execution_count": 12,
   "id": "aed7adcf",
   "metadata": {},
   "outputs": [
    {
     "name": "stdout",
     "output_type": "stream",
     "text": [
      "ix= 0    iy= 0\n",
      "ix= 0    iy= 1\n",
      "ix= 0    iy= 2\n",
      "ix= 0    iy= 3\n",
      "ix= 0    iy= 4\n",
      "ix= 1    iy= 0\n",
      "ix= 1    iy= 1\n",
      "ix= 1    iy= 2\n",
      "ix= 1    iy= 3\n",
      "ix= 1    iy= 4\n",
      "ix= 2    iy= 0\n",
      "ix= 2    iy= 1\n",
      "ix= 2    iy= 2\n",
      "ix= 2    iy= 3\n",
      "ix= 2    iy= 4\n",
      "[[  0.   1.   2.   3.   4.]\n",
      " [100. 101. 102. 103. 104.]\n",
      " [200. 201. 202. 203. 204.]]\n"
     ]
    }
   ],
   "source": [
    "y2=np.zeros((3,5))\n",
    "for ix in np.arange(0,3,1):\n",
    "    for iy in np.arange(0,5,1):\n",
    "        print(\"ix=\",ix,\"   iy=\",iy)\n",
    "        y2[ix,iy]=ix*100+iy\n",
    "        \n",
    "print(y2)"
   ]
  },
  {
   "cell_type": "code",
   "execution_count": 13,
   "id": "f811b2a2",
   "metadata": {},
   "outputs": [],
   "source": [
    "# in above, ix is row number, iy column number"
   ]
  },
  {
   "cell_type": "code",
   "execution_count": 14,
   "id": "5749b031",
   "metadata": {},
   "outputs": [
    {
     "name": "stdout",
     "output_type": "stream",
     "text": [
      "203.0\n"
     ]
    }
   ],
   "source": [
    "a=y2[2,3]\n",
    "print(a)"
   ]
  },
  {
   "cell_type": "code",
   "execution_count": 15,
   "id": "3fbc65bb",
   "metadata": {},
   "outputs": [
    {
     "name": "stdout",
     "output_type": "stream",
     "text": [
      "[  1. 101.]\n"
     ]
    }
   ],
   "source": [
    "# copy some elements\n",
    "b=y2[0:2,1]\n",
    "print(b)"
   ]
  },
  {
   "cell_type": "code",
   "execution_count": 16,
   "id": "400563b5",
   "metadata": {},
   "outputs": [
    {
     "name": "stdout",
     "output_type": "stream",
     "text": [
      "[  2. 102. 202.]\n"
     ]
    }
   ],
   "source": [
    "c=y2[:,2]\n",
    "print(c)"
   ]
  },
  {
   "cell_type": "code",
   "execution_count": 17,
   "id": "01d306cc",
   "metadata": {},
   "outputs": [
    {
     "name": "stdout",
     "output_type": "stream",
     "text": [
      "[  6. 306. 606.]\n"
     ]
    }
   ],
   "source": [
    "# multiply\n",
    "d=c*3.0\n",
    "print(d)"
   ]
  },
  {
   "cell_type": "code",
   "execution_count": null,
   "id": "073c77f3",
   "metadata": {},
   "outputs": [],
   "source": []
  },
  {
   "cell_type": "code",
   "execution_count": null,
   "id": "72c8e071",
   "metadata": {},
   "outputs": [],
   "source": []
  }
 ],
 "metadata": {
  "kernelspec": {
   "display_name": "Python 3",
   "language": "python",
   "name": "python3"
  },
  "language_info": {
   "codemirror_mode": {
    "name": "ipython",
    "version": 3
   },
   "file_extension": ".py",
   "mimetype": "text/x-python",
   "name": "python",
   "nbconvert_exporter": "python",
   "pygments_lexer": "ipython3",
   "version": "3.8.8"
  }
 },
 "nbformat": 4,
 "nbformat_minor": 5
}
