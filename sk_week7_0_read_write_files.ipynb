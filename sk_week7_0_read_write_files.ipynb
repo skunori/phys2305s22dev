{
 "cells": [
  {
   "cell_type": "code",
   "execution_count": 2,
   "id": "299cdea1",
   "metadata": {},
   "outputs": [
    {
     "name": "stdout",
     "output_type": "stream",
     "text": [
      "line=  1.00  10.000\n",
      "\n",
      "line=  3.00  30.000\n",
      "\n",
      "line=  5.00  50.000\n",
      "\n",
      "line=  7.00  70.000\n",
      "\n",
      "line=  9.00  90.000\n",
      "\n"
     ]
    }
   ],
   "source": [
    "# (restart Kernel before running this cell)\n",
    "# example 1 \n",
    "# This simply reads lines in a file and print...\n",
    "import numpy as np\n",
    "import matplotlib.pyplot as plt\n",
    "  \n",
    "#  read x, y values lini-by-line from file\n",
    "with open('xypoints.txt') as f:\n",
    "   for line in f:          \n",
    "       print(\"line=\",line)"
   ]
  },
  {
   "cell_type": "code",
   "execution_count": 2,
   "id": "fba6917b",
   "metadata": {},
   "outputs": [
    {
     "name": "stdout",
     "output_type": "stream",
     "text": [
      "line=  1.00  10.000\n",
      "\n",
      "s= ['1.00', '10.000']\n",
      "line=  3.00  30.000\n",
      "\n",
      "s= ['3.00', '30.000']\n",
      "line=  5.00  50.000\n",
      "\n",
      "s= ['5.00', '50.000']\n",
      "line=  7.00  70.000\n",
      "\n",
      "s= ['7.00', '70.000']\n",
      "line=  9.00  90.000\n",
      "\n",
      "s= ['9.00', '90.000']\n",
      "xx= [1. 3. 5. 7. 9.]\n",
      "yy= [10. 30. 50. 70. 90.]\n"
     ]
    }
   ],
   "source": [
    "# (restart Kernel before running this cell)\n",
    "# Example 2.\n",
    "#  This simply reads lines in a file and print...\n",
    "#  Then, save x and y values in arrays.\n",
    "import numpy as np\n",
    "import matplotlib.pyplot as plt\n",
    "\n",
    "xx=np.array([])         # create an empty array\n",
    "yy=np.array([])\n",
    "  \n",
    "#  read x, y values lini-by-line from file\n",
    "with open('xypoints.txt') as f:\n",
    "   for line in f:          \n",
    "       print(\"line=\",line)\n",
    "\n",
    "       val=np.array([])   # val[0] will hold x and val[1] y.\n",
    "       s=line.split()\n",
    "       print(\"s=\",s)\n",
    "       if len(s) >1:      # skip empty line\n",
    "          # save all x, y values for plotting\n",
    "          xx=np.append(xx,float(s[0]))\n",
    "          yy=np.append(yy,float(s[1]))\n",
    "\n",
    "print('xx=',xx)\n",
    "print('yy=',yy)"
   ]
  },
  {
   "cell_type": "code",
   "execution_count": 2,
   "id": "acff8efe",
   "metadata": {},
   "outputs": [
    {
     "name": "stdout",
     "output_type": "stream",
     "text": [
      "line=  1.00  10.000\n",
      "\n",
      "s= ['1.00', '10.000']\n",
      "line=  3.00  30.000\n",
      "\n",
      "s= ['3.00', '30.000']\n",
      "line=  5.00  50.000\n",
      "\n",
      "s= ['5.00', '50.000']\n",
      "line=  7.00  70.000\n",
      "\n",
      "s= ['7.00', '70.000']\n",
      "line=  9.00  90.000\n",
      "\n",
      "s= ['9.00', '90.000']\n",
      "xx= [1. 3. 5. 7. 9.]\n",
      "yy= [10. 30. 50. 70. 90.]\n"
     ]
    },
    {
     "data": {
      "image/png": "[encoded data removed]",
      "text/plain": [
       "<Figure size 432x288 with 1 Axes>"
      ]
     },
     "metadata": {
      "needs_background": "light"
     },
     "output_type": "display_data"
    }
   ],
   "source": [
    "# (restart Kernel before running this cell)\n",
    "# Example 3\n",
    "#  This simply reads lines in a file and print...\n",
    "#  Then, save x and y values in arrays.\n",
    "import numpy as np\n",
    "import matplotlib.pyplot as plt\n",
    "\n",
    "xx=np.array([])         # create an empty array\n",
    "yy=np.array([])\n",
    "  \n",
    "#  read x, y values lini-by-line from file\n",
    "with open('xypoints.txt') as f:\n",
    "   for line in f:          \n",
    "       print(\"line=\",line)\n",
    "\n",
    "       val=np.array([])   # val[0] will hold x and val[1] y.\n",
    "       s=line.split()\n",
    "       print(\"s=\",s)\n",
    "       if len(s) >1:      # skip empty line\n",
    "          # save all x, y values for plotting\n",
    "          xx=np.append(xx,float(s[0]))\n",
    "          yy=np.append(yy,float(s[1]))\n",
    "\n",
    "print('xx=',xx)\n",
    "print('yy=',yy)\n",
    "\n",
    "plt.plot(xx,yy,'or')\n",
    "plt.show() "
   ]
  },
  {
   "cell_type": "code",
   "execution_count": 1,
   "id": "2fd369b1",
   "metadata": {},
   "outputs": [
    {
     "name": "stdout",
     "output_type": "stream",
     "text": [
      "line=  1.00  10.000\n",
      "\n",
      "s= ['1.00', '10.000']\n",
      "line=  3.00  30.000\n",
      "\n",
      "s= ['3.00', '30.000']\n",
      "line=  5.00  50.000\n",
      "\n",
      "s= ['5.00', '50.000']\n",
      "line=  7.00  70.000\n",
      "\n",
      "s= ['7.00', '70.000']\n",
      "line=  9.00  90.000\n",
      "\n",
      "s= ['9.00', '90.000']\n",
      "xx= [1. 3. 5. 7. 9.]\n",
      "yy= [10. 30. 50. 70. 90.]\n"
     ]
    }
   ],
   "source": [
    "# (restart Kernel before running this cell)\n",
    "#  This simply reads lines in a file and print...\n",
    "#  Then, save x and y values in arrays.\n",
    "# Example-\n",
    "import numpy as np\n",
    "import matplotlib.pyplot as plt\n",
    "\n",
    "xx=np.array([])         # create an empty array\n",
    "yy=np.array([])\n",
    "  \n",
    "#  read x, y values lini-by-line from file\n",
    "with open('xypoints.txt') as f:\n",
    "   for line in f:          \n",
    "       print(\"line=\",line)\n",
    "\n",
    "       val=np.array([])   # val[0] will hold x and val[1] y.\n",
    "       s=line.split()\n",
    "       print(\"s=\",s)\n",
    "       if len(s) >1:      # skip empty line\n",
    "          # save all x, y values for plotting\n",
    "          xx=np.append(xx,float(s[0]))\n",
    "          yy=np.append(yy,float(s[1]))\n",
    "\n",
    "print('xx=',xx)\n",
    "print('yy=',yy)\n",
    "\n",
    "#  write x,y values in a file in row-column format.\n",
    "f=open('new_xypoints.txt','w')\n",
    "for i in range(len(xx)):\n",
    "    f.write(\"{0:5.2f} {1:7.3f} \\n\".format(xx[i],yy[i]))  # new formatting\n",
    "f.close()"
   ]
  },
  {
   "cell_type": "code",
   "execution_count": null,
   "id": "34aad25c",
   "metadata": {},
   "outputs": [],
   "source": []
  }
 ],
 "metadata": {
  "kernelspec": {
   "display_name": "Python 3",
   "language": "python",
   "name": "python3"
  },
  "language_info": {
   "codemirror_mode": {
    "name": "ipython",
    "version": 3
   },
   "file_extension": ".py",
   "mimetype": "text/x-python",
   "name": "python",
   "nbconvert_exporter": "python",
   "pygments_lexer": "ipython3",
   "version": "3.8.8"
  }
 },
 "nbformat": 4,
 "nbformat_minor": 5
}
