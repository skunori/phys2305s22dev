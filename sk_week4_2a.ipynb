{
 "cells": [
  {
   "cell_type": "code",
   "execution_count": 1,
   "id": "a614413b",
   "metadata": {},
   "outputs": [
    {
     "data": {
      "image/png": "[encoded data removed]",
      "text/plain": [
       "<Figure size 432x288 with 1 Axes>"
      ]
     },
     "metadata": {
      "needs_background": "light"
     },
     "output_type": "display_data"
    }
   ],
   "source": [
    "import numpy as np\n",
    "import matplotlib.pyplot as plt \n",
    "\n",
    "\n",
    "def inPulseShape(t):\n",
    "   p=-1.0\n",
    "   if int(t)%2 == 0:   # x % y is remainder of x/y \n",
    "      p=1.0\n",
    "\n",
    "   return  p\n",
    "\n",
    "# ------------------------\n",
    "# my program starts here\n",
    "# ------------------------\n",
    "\n",
    "dt = 0.001\n",
    "t = np.arange(0.0, 10.0, dt) \n",
    "\n",
    "#  save the input pulse shape in array inPulse[] for plottig.\n",
    "inPulse=np.zeros(len(t))\n",
    "i=0\n",
    "while i < len(t):\n",
    "   inPulse[i]=inPulseShape(t[i])\n",
    "   i=i+1\n",
    "\n",
    "plt.plot(t,inPulse,'r',label='input')\n",
    "plt.legend(loc='best')\n",
    "plt.ylim(-1.2,1.2)\n",
    "plt.savefig(\"odeInputOnly.png\")\n",
    "plt.show()"
   ]
  },
  {
   "cell_type": "code",
   "execution_count": null,
   "id": "928497e1",
   "metadata": {},
   "outputs": [],
   "source": []
  }
 ],
 "metadata": {
  "kernelspec": {
   "display_name": "Python 3",
   "language": "python",
   "name": "python3"
  },
  "language_info": {
   "codemirror_mode": {
    "name": "ipython",
    "version": 3
   },
   "file_extension": ".py",
   "mimetype": "text/x-python",
   "name": "python",
   "nbconvert_exporter": "python",
   "pygments_lexer": "ipython3",
   "version": "3.8.8"
  }
 },
 "nbformat": 4,
 "nbformat_minor": 5
}
