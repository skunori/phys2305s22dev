{
 "cells": [
  {
   "cell_type": "code",
   "execution_count": 2,
   "id": "d59dba69",
   "metadata": {},
   "outputs": [
    {
     "name": "stdout",
     "output_type": "stream",
     "text": [
      "[  0.           0.         150.         259.80762114]\n"
     ]
    },
    {
     "data": {
      "image/png": "[encoded data removed]",
      "text/plain": [
       "<Figure size 432x288 with 1 Axes>"
      ]
     },
     "metadata": {
      "needs_background": "light"
     },
     "output_type": "display_data"
    }
   ],
   "source": [
    "import numpy as np\n",
    "import matplotlib.pyplot as plt\n",
    "import scipy.integrate as integrate\n",
    "\n",
    "def yprime(state,t,k):\n",
    "   g=9.8\n",
    "   n=len(state)\n",
    "   yp=np.zeros(n)\n",
    "   yp[0]=state[2]       # vx, i.e. dx/dt\n",
    "   yp[1]=state[3]       # vy, i.e. dy/dt\n",
    "   yp[2]=-k*state[2]    # ax, i.e. dvx/dt\n",
    "   yp[3]=-g-k*state[3]  # ay, i.e. dvy/dt\n",
    "   return yp\n",
    "\n",
    "def Euler(y0,t,kconstant):\n",
    "   n=len(t)\n",
    "   m=len(y0)\n",
    "   ytemp=np.zeros((n,m),dtype=float)   # n row, m column\n",
    "   ytemp[0,:]=y0   # copy the initial value to the first row.\n",
    "\n",
    "   i=0\n",
    "   while i < (n-2):\n",
    "      tx=t[i]\n",
    "      dt=t[i+1]-t[i]\n",
    "      yp=yprime(ytemp[i,:],tx,kconstant)\n",
    "      ytemp[i+1,0]=ytemp[i,0]+yp[0]*dt\n",
    "      ytemp[i+1,1]=ytemp[i,1]+yp[1]*dt\n",
    "      ytemp[i+1,2]=ytemp[i,2]+yp[2]*dt\n",
    "      ytemp[i+1,3]=ytemp[i,3]+yp[3]*dt\n",
    "      i=i+1\n",
    "      if ytemp[i,1] < 0.0:\n",
    "         break\n",
    "   yval=ytemp[0:i,:]\n",
    "   return yval\n",
    "\n",
    "\n",
    "#  my program starts here...\n",
    "dt = 0.01\n",
    "tmax = 80.0\n",
    "t  = np.arange(0.0,tmax,dt)\n",
    "\n",
    "v0=300.0\n",
    "theta=60.0*np.pi/180.0\n",
    "\n",
    "# set initial state in 1D array...\n",
    "stateInit=np.zeros(4)\n",
    "stateInit[0]=0.0    #  x\n",
    "stateInit[1]=0.0    #  y\n",
    "stateInit[2]=v0*np.cos(theta)  # vx\n",
    "stateInit[3]=v0*np.sin(theta)  # vy\n",
    "print(stateInit)\n",
    "\n",
    "kconstant=0.0   #  k-constnt (air registance)\n",
    "stateA=Euler(stateInit,t,kconstant)\n",
    "\n",
    "x=stateA[:,0]  # copy 1st column (x-points)\n",
    "y=stateA[:,1]  # copy 2nd column (y-points)\n",
    "plt.plot(x,y,'b')\n",
    "plt.show()"
   ]
  },
  {
   "cell_type": "code",
   "execution_count": null,
   "id": "4ec4d9c0",
   "metadata": {},
   "outputs": [],
   "source": []
  }
 ],
 "metadata": {
  "kernelspec": {
   "display_name": "Python 3",
   "language": "python",
   "name": "python3"
  },
  "language_info": {
   "codemirror_mode": {
    "name": "ipython",
    "version": 3
   },
   "file_extension": ".py",
   "mimetype": "text/x-python",
   "name": "python",
   "nbconvert_exporter": "python",
   "pygments_lexer": "ipython3",
   "version": "3.8.8"
  }
 },
 "nbformat": 4,
 "nbformat_minor": 5
}
